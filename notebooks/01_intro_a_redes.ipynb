{
 "cells": [
  {
   "cell_type": "code",
   "execution_count": 53,
   "metadata": {},
   "outputs": [],
   "source": [
    "import numpy as np\n",
    "import matplotlib.pyplot as plt"
   ]
  },
  {
   "cell_type": "code",
   "execution_count": 54,
   "metadata": {},
   "outputs": [],
   "source": [
    "# 1. Es posible definir nodos y aristas\n",
    "nodes = ['NumPy','SciPy']\n",
    "edges = [(1, 0)]"
   ]
  },
  {
   "cell_type": "code",
   "execution_count": 55,
   "metadata": {},
   "outputs": [
    {
     "data": {
      "text/plain": [
       "True"
      ]
     },
     "execution_count": 55,
     "metadata": {},
     "output_type": "execute_result"
    }
   ],
   "source": [
    "# 2. Es posible chequear si, dado un conjunto de nodos y aristas. Una arista existe o no \n",
    "(1,0) in edges"
   ]
  },
  {
   "cell_type": "code",
   "execution_count": 56,
   "metadata": {},
   "outputs": [
    {
     "name": "stdout",
     "output_type": "stream",
     "text": [
      "[[0. 0.]\n",
      " [1. 0.]]\n"
     ]
    }
   ],
   "source": [
    "# 3. No es eficiente realizar dicho proceso de busqueda en presencia de muchas aristas. Es preferible construir una matriz de adyacencia\n",
    "adj_matrix = np.zeros((len(nodes), len(nodes)))\n",
    "\n",
    "for i, j in edges:\n",
    "    adj_matrix[i][j] = 1\n",
    "\n",
    "\n",
    "print(adj_matrix)"
   ]
  },
  {
   "cell_type": "code",
   "execution_count": 57,
   "metadata": {},
   "outputs": [],
   "source": [
    "# 4. Un problema asociado al trabajo con Numpy es que no es facil resizear un array. No permite integrar nuevos elementos facilmente manteniendo los existentes. \n",
    "# Este tema para el análisis de grafos es clave. Por eso se utiliza una librerías especializada en grafos.\n",
    "\n",
    "import networkx as nx"
   ]
  },
  {
   "cell_type": "code",
   "execution_count": 58,
   "metadata": {},
   "outputs": [
    {
     "name": "stdout",
     "output_type": "stream",
     "text": [
      "{'webpage': 'Numpy'}\n"
     ]
    }
   ],
   "source": [
    "# 5. Utilización de networkx\n",
    "\n",
    "# instancio un grafo dirigido con cero nodos y cero aristas\n",
    "G = nx.DiGraph() \n",
    "\n",
    "# Agrego nodo\n",
    "# la forma de agregar nodo es: agrego un lugar en la matriz de adjacencia con index 0\n",
    "# agregado el nodo, le agrego un atributo key:value, para identificarlo\n",
    "G.add_node(0)\n",
    "G.nodes[0]['webpage'] = 'Numpy'\n",
    "\n",
    "\n",
    "print(G.nodes[0])"
   ]
  },
  {
   "cell_type": "code",
   "execution_count": 59,
   "metadata": {},
   "outputs": [
    {
     "data": {
      "text/plain": [
       "NodeView((0,))"
      ]
     },
     "execution_count": 59,
     "metadata": {},
     "output_type": "execute_result"
    }
   ],
   "source": [
    "G.nodes()"
   ]
  },
  {
   "cell_type": "code",
   "execution_count": 60,
   "metadata": {},
   "outputs": [
    {
     "name": "stdout",
     "output_type": "stream",
     "text": [
      "[(0, {'webpage': 'Numpy'}), (1, {'webpage': 'Scipy'})]\n"
     ]
    }
   ],
   "source": [
    "# otra forma de agregar nodos y referencias: directamente al crear el nodo\n",
    "\n",
    "G = nx.DiGraph()\n",
    "G.add_node(0, webpage = 'Numpy')\n",
    "G.add_node(1, webpage = 'Scipy')\n",
    "\n",
    "print(G.nodes(data = True))"
   ]
  },
  {
   "cell_type": "code",
   "execution_count": 61,
   "metadata": {},
   "outputs": [
    {
     "data": {
      "text/plain": [
       "array([[0., 0.],\n",
       "       [0., 0.]])"
      ]
     },
     "execution_count": 61,
     "metadata": {},
     "output_type": "execute_result"
    }
   ],
   "source": [
    "# visualización de matriz de adjacencia\n",
    "# filas:salen, cols: entran\n",
    "nx.to_numpy_array(G)"
   ]
  },
  {
   "cell_type": "code",
   "execution_count": 62,
   "metadata": {},
   "outputs": [
    {
     "name": "stdout",
     "output_type": "stream",
     "text": [
      "[[0. 0.]\n",
      " [1. 0.]]\n"
     ]
    }
   ],
   "source": [
    "# Agrego arista de Scipy a Numpy\n",
    "G.add_edge(1,0)\n",
    "\n",
    "print(nx.to_numpy_array(G))"
   ]
  },
  {
   "cell_type": "code",
   "execution_count": 63,
   "metadata": {},
   "outputs": [
    {
     "data": {
      "image/png": "[encoded data removed]",
      "text/plain": [
       "<Figure size 432x288 with 1 Axes>"
      ]
     },
     "metadata": {},
     "output_type": "display_data"
    }
   ],
   "source": [
    "# 6. ploteo grafo\n",
    "np.random.seed(0) # define la posición espacial de los nodos en los plot como random. Con esto la fijo.\n",
    "labels = {i:G.nodes[i]['webpage'] for i in G.nodes}\n",
    "\n",
    "nx.draw(G, labels = labels, node_color = 'cyan', arrowsize=20)\n",
    "plt.show()"
   ]
  },
  {
   "cell_type": "code",
   "execution_count": 64,
   "metadata": {},
   "outputs": [
    {
     "data": {
      "image/png": "[encoded data removed]",
      "text/plain": [
       "<Figure size 432x288 with 1 Axes>"
      ]
     },
     "metadata": {},
     "output_type": "display_data"
    }
   ],
   "source": [
    "# 7. Defino relación bidireccional\n",
    "np.random.seed(0)\n",
    "G.add_edge(0,1)\n",
    "nx.draw(G, labels = labels, node_color = 'cyan', arrowsize=20)\n",
    "plt.show()"
   ]
  },
  {
   "cell_type": "code",
   "execution_count": 65,
   "metadata": {},
   "outputs": [
    {
     "data": {
      "text/plain": [
       "[(2, {'webpage': 'Pandas'}), (3, {'webpage': 'Matplotlib'})]"
      ]
     },
     "execution_count": 65,
     "metadata": {},
     "output_type": "execute_result"
    }
   ],
   "source": [
    "# 8. Agrego nodos a grafo ya creado\n",
    "new = ['Pandas','Matplotlib']\n",
    "new_nodes = [(i, {'webpage':webpage}) for i, webpage in enumerate(new,2)]\n",
    "new_nodes"
   ]
  },
  {
   "cell_type": "code",
   "execution_count": 66,
   "metadata": {},
   "outputs": [
    {
     "data": {
      "image/png": "[encoded data removed]",
      "text/plain": [
       "<Figure size 432x288 with 1 Axes>"
      ]
     },
     "metadata": {},
     "output_type": "display_data"
    }
   ],
   "source": [
    "np.random.seed(0)\n",
    "G.add_nodes_from(new_nodes) # este m´todo permite incluir nodos desde diccionario\n",
    "labels = {i:G.nodes[i]['webpage'] for i in G.nodes}\n",
    "nx.draw(G, labels = labels, node_color = 'cyan', arrowsize=20)\n",
    "plt.show()"
   ]
  },
  {
   "cell_type": "code",
   "execution_count": 67,
   "metadata": {},
   "outputs": [
    {
     "data": {
      "image/png": "[encoded data removed]",
      "text/plain": [
       "<Figure size 432x288 with 1 Axes>"
      ]
     },
     "metadata": {},
     "output_type": "display_data"
    }
   ],
   "source": [
    "# 9. Agrego aristas múltiples desde lista\n",
    "new_edges = [(0,2),(3,0)]\n",
    "G.add_edges_from(new_edges)\n",
    "nx.draw(G, labels = labels, node_color = 'cyan', arrowsize=20)\n",
    "plt.show()"
   ]
  },
  {
   "cell_type": "code",
   "execution_count": 69,
   "metadata": {},
   "outputs": [
    {
     "name": "stdout",
     "output_type": "stream",
     "text": [
      "[[0. 1. 1. 0.]\n",
      " [1. 0. 0. 0.]\n",
      " [0. 0. 0. 0.]\n",
      " [1. 0. 0. 0.]]\n",
      "[(0, {'webpage': 'Numpy'}), (1, {'webpage': 'Scipy'}), (2, {'webpage': 'Pandas'}), (3, {'webpage': 'Matplotlib'})]\n"
     ]
    }
   ],
   "source": [
    "# 10. Calculo in-degree metric\n",
    "# in-degree: métrica de un nodo. Cantidad de aristas que llegan a un nodo.\n",
    "# out-degree: métrica de un nodo. Cantida de aristas que salen de un nodo.\n",
    "\n",
    "print(nx.to_numpy_array(G))\n",
    "print(G.nodes(data = True))"
   ]
  },
  {
   "cell_type": "code",
   "execution_count": 91,
   "metadata": {},
   "outputs": [
    {
     "data": {
      "text/plain": [
       "{'Numpy': 2.0, 'Scipy': 1.0, 'Pandas': 1.0, 'Matplotlib': 0.0}"
      ]
     },
     "execution_count": 91,
     "metadata": {},
     "output_type": "execute_result"
    }
   ],
   "source": [
    "list_labels = [G.nodes(data = True)[i]['webpage'] for i in range(len(G.nodes))]\n",
    "\n",
    "adj_matrix = nx.to_numpy_array(G)\n",
    "list_in_degree = adj_matrix.sum(axis = 0)\n",
    "list_out_degree = adj_matrix.sum(axis = 1)\n",
    "\n",
    "# in-degree\n",
    "dict(zip(list_labels,list_in_degree))"
   ]
  },
  {
   "cell_type": "code",
   "execution_count": 92,
   "metadata": {},
   "outputs": [
    {
     "data": {
      "text/plain": [
       "{'Numpy': 2.0, 'Scipy': 1.0, 'Pandas': 0.0, 'Matplotlib': 1.0}"
      ]
     },
     "execution_count": 92,
     "metadata": {},
     "output_type": "execute_result"
    }
   ],
   "source": [
    "dict(zip(list_labels, list_out_degree))"
   ]
  },
  {
   "cell_type": "code",
   "execution_count": 97,
   "metadata": {},
   "outputs": [
    {
     "data": {
      "text/plain": [
       "{'Numpy': 2, 'Scipy': 1, 'Pandas': 1, 'Matplotlib': 0}"
      ]
     },
     "execution_count": 97,
     "metadata": {},
     "output_type": "execute_result"
    }
   ],
   "source": [
    "# se puede utilizar el método in-degree de la librería\n",
    "#G.in_degree(0)\n",
    "dict(zip(list_labels, [G.in_degree(i) for i in G.nodes()]))"
   ]
  },
  {
   "cell_type": "code",
   "execution_count": 99,
   "metadata": {},
   "outputs": [],
   "source": [
    "# 11. Definiendo un grafo no direccionado\n",
    "G = nx.Graph() # esto define un grafo no direccionado\n",
    "G.add_edge(0,1)\n",
    "G[0][1]['travel_time'] = 20 # defino así un atributo específico de esta arista, el tiempo de viaje\n"
   ]
  },
  {
   "cell_type": "code",
   "execution_count": 104,
   "metadata": {},
   "outputs": [
    {
     "data": {
      "text/plain": [
       "AtlasView({1: {'travel_time': 20}})"
      ]
     },
     "execution_count": 104,
     "metadata": {},
     "output_type": "execute_result"
    }
   ],
   "source": [
    "G[0][1]['trave']"
   ]
  },
  {
   "cell_type": "code",
   "execution_count": 105,
   "metadata": {},
   "outputs": [],
   "source": [
    "# Continuar construyendo un grafo posta en 467(495)"
   ]
  },
  {
   "cell_type": "code",
   "execution_count": null,
   "metadata": {},
   "outputs": [],
   "source": []
  }
 ],
 "metadata": {
  "interpreter": {
   "hash": "916dbcbb3f70747c44a77c7bcd40155683ae19c65e1c03b4aa3499c5328201f1"
  },
  "kernelspec": {
   "display_name": "Python 3.9.7 64-bit",
   "language": "python",
   "name": "python3"
  },
  "language_info": {
   "codemirror_mode": {
    "name": "ipython",
    "version": 3
   },
   "file_extension": ".py",
   "mimetype": "text/x-python",
   "name": "python",
   "nbconvert_exporter": "python",
   "pygments_lexer": "ipython3",
   "version": "3.9.7"
  },
  "orig_nbformat": 4
 },
 "nbformat": 4,
 "nbformat_minor": 2
}
